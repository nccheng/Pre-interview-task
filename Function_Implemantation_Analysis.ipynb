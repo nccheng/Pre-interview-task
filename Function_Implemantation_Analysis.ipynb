{
 "cells": [
  {
   "cell_type": "markdown",
   "metadata": {},
   "source": [
    "# Function Spec\n",
    "We need a python function that when given a list will return a sequence of the neighboring pairs.\n",
    "\n",
    "E.g.\n",
    "\n",
    "    Input: [1,3,5,7]\n",
    "    Output: [(3,1),(5,3),(7,5)]\n",
    "    \n",
    "Note: Definition of **neighboring pair**: two numbers are *physically*  neightbors.\n",
    "\n",
    "Assumption: \n",
    "1. The numbers are integer.\n",
    "2. The numbers in the output tuple pairs are in reversed order.\n"
   ]
  },
  {
   "cell_type": "markdown",
   "metadata": {},
   "source": [
    "## Setup"
   ]
  },
  {
   "cell_type": "code",
   "execution_count": 1,
   "metadata": {},
   "outputs": [
    {
     "name": "stdout",
     "output_type": "stream",
     "text": [
      "Python version: 3.7.6 (default, Jan  8 2020, 13:42:34) \n",
      "[Clang 4.0.1 (tags/RELEASE_401/final)]\n"
     ]
    }
   ],
   "source": [
    "import sys\n",
    "import gc\n",
    "import dis\n",
    "\n",
    "from itertools import tee, islice\n",
    "from timeit import default_timer as timer\n",
    "from memory_profiler import memory_usage\n",
    "\n",
    "import numpy as np\n",
    "from numpy.random import randint\n",
    "\n",
    "import seaborn as sns\n",
    "import pylab as pl\n",
    "from matplotlib import pyplot as plt\n",
    "\n",
    "np.random.seed(42)\n",
    "sns.set()\n",
    "\n",
    "print(\"Python version: \" + sys.version)\n",
    "\n",
    "%load_ext memory_profiler"
   ]
  },
  {
   "cell_type": "markdown",
   "metadata": {},
   "source": [
    "## Task A - Function Implementation"
   ]
  },
  {
   "cell_type": "markdown",
   "metadata": {},
   "source": [
    "####  Implementation: Easy to read"
   ]
  },
  {
   "cell_type": "code",
   "execution_count": 2,
   "metadata": {},
   "outputs": [],
   "source": [
    "def get_neighboring_pair_easy_to_read(nums):\n",
    "    if not isinstance(nums, list):\n",
    "        raise TypeError\n",
    "    if len(nums) == 0 or len(nums) == 1:\n",
    "        return [] \n",
    "    res = []\n",
    "    ptr1, ptr2 = 0, 1\n",
    "    while ptr2 < len(nums):\n",
    "        res.append((nums[ptr2], nums[ptr1]))\n",
    "        ptr1, ptr2 = ptr1 + 1, ptr2 + 1\n",
    "    return res"
   ]
  },
  {
   "cell_type": "code",
   "execution_count": 3,
   "metadata": {},
   "outputs": [
    {
     "name": "stdout",
     "output_type": "stream",
     "text": [
      "  2           0 LOAD_GLOBAL              0 (isinstance)\n",
      "              2 LOAD_FAST                0 (nums)\n",
      "              4 LOAD_GLOBAL              1 (list)\n",
      "              6 CALL_FUNCTION            2\n",
      "              8 POP_JUMP_IF_TRUE        14\n",
      "\n",
      "  3          10 LOAD_GLOBAL              2 (TypeError)\n",
      "             12 RAISE_VARARGS            1\n",
      "\n",
      "  4     >>   14 LOAD_GLOBAL              3 (len)\n",
      "             16 LOAD_FAST                0 (nums)\n",
      "             18 CALL_FUNCTION            1\n",
      "             20 LOAD_CONST               1 (0)\n",
      "             22 COMPARE_OP               2 (==)\n",
      "             24 POP_JUMP_IF_TRUE        38\n",
      "             26 LOAD_GLOBAL              3 (len)\n",
      "             28 LOAD_FAST                0 (nums)\n",
      "             30 CALL_FUNCTION            1\n",
      "             32 LOAD_CONST               2 (1)\n",
      "             34 COMPARE_OP               2 (==)\n",
      "             36 POP_JUMP_IF_FALSE       42\n",
      "\n",
      "  5     >>   38 BUILD_LIST               0\n",
      "             40 RETURN_VALUE\n",
      "\n",
      "  6     >>   42 BUILD_LIST               0\n",
      "             44 STORE_FAST               1 (res)\n",
      "\n",
      "  7          46 LOAD_CONST               3 ((0, 1))\n",
      "             48 UNPACK_SEQUENCE          2\n",
      "             50 STORE_FAST               2 (ptr1)\n",
      "             52 STORE_FAST               3 (ptr2)\n",
      "\n",
      "  8          54 SETUP_LOOP              56 (to 112)\n",
      "        >>   56 LOAD_FAST                3 (ptr2)\n",
      "             58 LOAD_GLOBAL              3 (len)\n",
      "             60 LOAD_FAST                0 (nums)\n",
      "             62 CALL_FUNCTION            1\n",
      "             64 COMPARE_OP               0 (<)\n",
      "             66 POP_JUMP_IF_FALSE      110\n",
      "\n",
      "  9          68 LOAD_FAST                1 (res)\n",
      "             70 LOAD_METHOD              4 (append)\n",
      "             72 LOAD_FAST                0 (nums)\n",
      "             74 LOAD_FAST                3 (ptr2)\n",
      "             76 BINARY_SUBSCR\n",
      "             78 LOAD_FAST                0 (nums)\n",
      "             80 LOAD_FAST                2 (ptr1)\n",
      "             82 BINARY_SUBSCR\n",
      "             84 BUILD_TUPLE              2\n",
      "             86 CALL_METHOD              1\n",
      "             88 POP_TOP\n",
      "\n",
      " 10          90 LOAD_FAST                2 (ptr1)\n",
      "             92 LOAD_CONST               2 (1)\n",
      "             94 BINARY_ADD\n",
      "             96 LOAD_FAST                3 (ptr2)\n",
      "             98 LOAD_CONST               2 (1)\n",
      "            100 BINARY_ADD\n",
      "            102 ROT_TWO\n",
      "            104 STORE_FAST               2 (ptr1)\n",
      "            106 STORE_FAST               3 (ptr2)\n",
      "            108 JUMP_ABSOLUTE           56\n",
      "        >>  110 POP_BLOCK\n",
      "\n",
      " 11     >>  112 LOAD_FAST                1 (res)\n",
      "            114 RETURN_VALUE\n"
     ]
    }
   ],
   "source": [
    "dis.dis(get_neighboring_pair_easy_to_read)"
   ]
  },
  {
   "cell_type": "markdown",
   "metadata": {},
   "source": [
    "####  Implementation: Fewest lines-of-code"
   ]
  },
  {
   "cell_type": "code",
   "execution_count": 4,
   "metadata": {},
   "outputs": [],
   "source": [
    "def get_neighboring_pair_fewest_lines(nums):\n",
    "    if not isinstance(nums, list):\n",
    "        raise TypeError\n",
    "    if len(nums) == 0 or len(nums) == 1:\n",
    "        return [] \n",
    "    return [(nums[i], nums[i - 1]) for i in list(range(1, len(nums)))]"
   ]
  },
  {
   "cell_type": "code",
   "execution_count": 5,
   "metadata": {},
   "outputs": [
    {
     "name": "stdout",
     "output_type": "stream",
     "text": [
      "  2           0 LOAD_GLOBAL              0 (isinstance)\n",
      "              2 LOAD_DEREF               0 (nums)\n",
      "              4 LOAD_GLOBAL              1 (list)\n",
      "              6 CALL_FUNCTION            2\n",
      "              8 POP_JUMP_IF_TRUE        14\n",
      "\n",
      "  3          10 LOAD_GLOBAL              2 (TypeError)\n",
      "             12 RAISE_VARARGS            1\n",
      "\n",
      "  4     >>   14 LOAD_GLOBAL              3 (len)\n",
      "             16 LOAD_DEREF               0 (nums)\n",
      "             18 CALL_FUNCTION            1\n",
      "             20 LOAD_CONST               1 (0)\n",
      "             22 COMPARE_OP               2 (==)\n",
      "             24 POP_JUMP_IF_TRUE        38\n",
      "             26 LOAD_GLOBAL              3 (len)\n",
      "             28 LOAD_DEREF               0 (nums)\n",
      "             30 CALL_FUNCTION            1\n",
      "             32 LOAD_CONST               2 (1)\n",
      "             34 COMPARE_OP               2 (==)\n",
      "             36 POP_JUMP_IF_FALSE       42\n",
      "\n",
      "  5     >>   38 BUILD_LIST               0\n",
      "             40 RETURN_VALUE\n",
      "\n",
      "  6     >>   42 LOAD_CLOSURE             0 (nums)\n",
      "             44 BUILD_TUPLE              1\n",
      "             46 LOAD_CONST               3 (<code object <listcomp> at 0x7fe8ac3b7390, file \"<ipython-input-4-aee1a262277a>\", line 6>)\n",
      "             48 LOAD_CONST               4 ('get_neighboring_pair_fewest_lines.<locals>.<listcomp>')\n",
      "             50 MAKE_FUNCTION            8\n",
      "             52 LOAD_GLOBAL              1 (list)\n",
      "             54 LOAD_GLOBAL              4 (range)\n",
      "             56 LOAD_CONST               2 (1)\n",
      "             58 LOAD_GLOBAL              3 (len)\n",
      "             60 LOAD_DEREF               0 (nums)\n",
      "             62 CALL_FUNCTION            1\n",
      "             64 CALL_FUNCTION            2\n",
      "             66 CALL_FUNCTION            1\n",
      "             68 GET_ITER\n",
      "             70 CALL_FUNCTION            1\n",
      "             72 RETURN_VALUE\n",
      "\n",
      "Disassembly of <code object <listcomp> at 0x7fe8ac3b7390, file \"<ipython-input-4-aee1a262277a>\", line 6>:\n",
      "  6           0 BUILD_LIST               0\n",
      "              2 LOAD_FAST                0 (.0)\n",
      "        >>    4 FOR_ITER                24 (to 30)\n",
      "              6 STORE_FAST               1 (i)\n",
      "              8 LOAD_DEREF               0 (nums)\n",
      "             10 LOAD_FAST                1 (i)\n",
      "             12 BINARY_SUBSCR\n",
      "             14 LOAD_DEREF               0 (nums)\n",
      "             16 LOAD_FAST                1 (i)\n",
      "             18 LOAD_CONST               0 (1)\n",
      "             20 BINARY_SUBTRACT\n",
      "             22 BINARY_SUBSCR\n",
      "             24 BUILD_TUPLE              2\n",
      "             26 LIST_APPEND              2\n",
      "             28 JUMP_ABSOLUTE            4\n",
      "        >>   30 RETURN_VALUE\n"
     ]
    }
   ],
   "source": [
    "dis.dis(get_neighboring_pair_fewest_lines)"
   ]
  },
  {
   "cell_type": "markdown",
   "metadata": {},
   "source": [
    "####  Implementation: Using the least peak memory"
   ]
  },
  {
   "cell_type": "code",
   "execution_count": 6,
   "metadata": {},
   "outputs": [],
   "source": [
    "def get_neighboring_pair_iter(nums):\n",
    "    if not isinstance(nums, list):\n",
    "        raise TypeError\n",
    "    if len(nums) == 0 or len(nums) == 1:\n",
    "        return []\n",
    "    iter1, iter2 = tee(nums)\n",
    "    next(iter1, None)\n",
    "    return list(zip(iter1, iter2))"
   ]
  },
  {
   "cell_type": "code",
   "execution_count": 7,
   "metadata": {},
   "outputs": [
    {
     "name": "stdout",
     "output_type": "stream",
     "text": [
      "  2           0 LOAD_GLOBAL              0 (isinstance)\n",
      "              2 LOAD_FAST                0 (nums)\n",
      "              4 LOAD_GLOBAL              1 (list)\n",
      "              6 CALL_FUNCTION            2\n",
      "              8 POP_JUMP_IF_TRUE        14\n",
      "\n",
      "  3          10 LOAD_GLOBAL              2 (TypeError)\n",
      "             12 RAISE_VARARGS            1\n",
      "\n",
      "  4     >>   14 LOAD_GLOBAL              3 (len)\n",
      "             16 LOAD_FAST                0 (nums)\n",
      "             18 CALL_FUNCTION            1\n",
      "             20 LOAD_CONST               1 (0)\n",
      "             22 COMPARE_OP               2 (==)\n",
      "             24 POP_JUMP_IF_TRUE        38\n",
      "             26 LOAD_GLOBAL              3 (len)\n",
      "             28 LOAD_FAST                0 (nums)\n",
      "             30 CALL_FUNCTION            1\n",
      "             32 LOAD_CONST               2 (1)\n",
      "             34 COMPARE_OP               2 (==)\n",
      "             36 POP_JUMP_IF_FALSE       42\n",
      "\n",
      "  5     >>   38 BUILD_LIST               0\n",
      "             40 RETURN_VALUE\n",
      "\n",
      "  6     >>   42 LOAD_GLOBAL              4 (tee)\n",
      "             44 LOAD_FAST                0 (nums)\n",
      "             46 CALL_FUNCTION            1\n",
      "             48 UNPACK_SEQUENCE          2\n",
      "             50 STORE_FAST               1 (iter1)\n",
      "             52 STORE_FAST               2 (iter2)\n",
      "\n",
      "  7          54 LOAD_GLOBAL              5 (next)\n",
      "             56 LOAD_FAST                1 (iter1)\n",
      "             58 LOAD_CONST               0 (None)\n",
      "             60 CALL_FUNCTION            2\n",
      "             62 POP_TOP\n",
      "\n",
      "  8          64 LOAD_GLOBAL              1 (list)\n",
      "             66 LOAD_GLOBAL              6 (zip)\n",
      "             68 LOAD_FAST                1 (iter1)\n",
      "             70 LOAD_FAST                2 (iter2)\n",
      "             72 CALL_FUNCTION            2\n",
      "             74 CALL_FUNCTION            1\n",
      "             76 RETURN_VALUE\n"
     ]
    }
   ],
   "source": [
    "dis.dis(get_neighboring_pair_iter)"
   ]
  },
  {
   "cell_type": "markdown",
   "metadata": {},
   "source": [
    "####  Implementation: Using zip & list slicing"
   ]
  },
  {
   "cell_type": "code",
   "execution_count": 8,
   "metadata": {},
   "outputs": [],
   "source": [
    "def get_neighboring_pair_zip(nums):\n",
    "    if not isinstance(nums, list):\n",
    "        raise TypeError\n",
    "    if len(nums) == 0 or len(nums) == 1:\n",
    "        return []\n",
    "    return list(zip(nums[1:], nums))"
   ]
  },
  {
   "cell_type": "code",
   "execution_count": 9,
   "metadata": {},
   "outputs": [
    {
     "name": "stdout",
     "output_type": "stream",
     "text": [
      "  2           0 LOAD_GLOBAL              0 (isinstance)\n",
      "              2 LOAD_FAST                0 (nums)\n",
      "              4 LOAD_GLOBAL              1 (list)\n",
      "              6 CALL_FUNCTION            2\n",
      "              8 POP_JUMP_IF_TRUE        14\n",
      "\n",
      "  3          10 LOAD_GLOBAL              2 (TypeError)\n",
      "             12 RAISE_VARARGS            1\n",
      "\n",
      "  4     >>   14 LOAD_GLOBAL              3 (len)\n",
      "             16 LOAD_FAST                0 (nums)\n",
      "             18 CALL_FUNCTION            1\n",
      "             20 LOAD_CONST               1 (0)\n",
      "             22 COMPARE_OP               2 (==)\n",
      "             24 POP_JUMP_IF_TRUE        38\n",
      "             26 LOAD_GLOBAL              3 (len)\n",
      "             28 LOAD_FAST                0 (nums)\n",
      "             30 CALL_FUNCTION            1\n",
      "             32 LOAD_CONST               2 (1)\n",
      "             34 COMPARE_OP               2 (==)\n",
      "             36 POP_JUMP_IF_FALSE       42\n",
      "\n",
      "  5     >>   38 BUILD_LIST               0\n",
      "             40 RETURN_VALUE\n",
      "\n",
      "  6     >>   42 LOAD_GLOBAL              1 (list)\n",
      "             44 LOAD_GLOBAL              4 (zip)\n",
      "             46 LOAD_FAST                0 (nums)\n",
      "             48 LOAD_CONST               2 (1)\n",
      "             50 LOAD_CONST               0 (None)\n",
      "             52 BUILD_SLICE              2\n",
      "             54 BINARY_SUBSCR\n",
      "             56 LOAD_FAST                0 (nums)\n",
      "             58 CALL_FUNCTION            2\n",
      "             60 CALL_FUNCTION            1\n",
      "             62 RETURN_VALUE\n"
     ]
    }
   ],
   "source": [
    "dis.dis(get_neighboring_pair_zip)"
   ]
  },
  {
   "cell_type": "markdown",
   "metadata": {},
   "source": [
    "## Task B - Unit Tests"
   ]
  },
  {
   "cell_type": "code",
   "execution_count": 12,
   "metadata": {
    "scrolled": true
   },
   "outputs": [
    {
     "name": "stdout",
     "output_type": "stream",
     "text": [
      "[(3, 1), (5, 3), (7, 5)]\n"
     ]
    }
   ],
   "source": [
    "test_data = [1,3,5,7]\n",
    "print(get_neighboring_pair_iter(test_data))"
   ]
  },
  {
   "cell_type": "code",
   "execution_count": 19,
   "metadata": {
    "scrolled": true
   },
   "outputs": [
    {
     "name": "stderr",
     "output_type": "stream",
     "text": [
      "test_input_empty (__main__.TestGetNeighboringPairEasyToRead) ... ok\n",
      "test_input_not_list (__main__.TestGetNeighboringPairEasyToRead) ... ok\n",
      "test_input_single_number (__main__.TestGetNeighboringPairEasyToRead) ... ok\n",
      "test_list_too_large (__main__.TestGetNeighboringPairEasyToRead) ... ok\n",
      "test_sample_case_1 (__main__.TestGetNeighboringPairEasyToRead) ... ok\n",
      "test_sample_case_2 (__main__.TestGetNeighboringPairEasyToRead) ... ok\n",
      "test_sample_case_3 (__main__.TestGetNeighboringPairEasyToRead) ... ok\n",
      "test_sample_case_4 (__main__.TestGetNeighboringPairEasyToRead) ... ok\n",
      "test_input_empty (__main__.TestGetNeighboringPairFewestLines) ... ok\n",
      "test_input_not_list (__main__.TestGetNeighboringPairFewestLines) ... ok\n",
      "test_input_single_number (__main__.TestGetNeighboringPairFewestLines) ... ok\n",
      "test_list_too_large (__main__.TestGetNeighboringPairFewestLines) ... ok\n",
      "test_sample_case_1 (__main__.TestGetNeighboringPairFewestLines) ... ok\n",
      "test_sample_case_2 (__main__.TestGetNeighboringPairFewestLines) ... ok\n",
      "test_sample_case_3 (__main__.TestGetNeighboringPairFewestLines) ... ok\n",
      "test_sample_case_4 (__main__.TestGetNeighboringPairFewestLines) ... ok\n",
      "test_input_empty (__main__.TestGetNeighboringPairIter) ... ok\n",
      "test_input_not_list (__main__.TestGetNeighboringPairIter) ... ok\n",
      "test_input_single_number (__main__.TestGetNeighboringPairIter) ... ok\n",
      "test_list_too_large (__main__.TestGetNeighboringPairIter) ... ok\n",
      "test_sample_case_1 (__main__.TestGetNeighboringPairIter) ... ok\n",
      "test_sample_case_2 (__main__.TestGetNeighboringPairIter) ... ok\n",
      "test_sample_case_3 (__main__.TestGetNeighboringPairIter) ... ok\n",
      "test_sample_case_4 (__main__.TestGetNeighboringPairIter) ... ok\n",
      "test_input_empty (__main__.TestGetNeighboringPairZip) ... ok\n",
      "test_input_not_list (__main__.TestGetNeighboringPairZip) ... ok\n",
      "test_input_single_number (__main__.TestGetNeighboringPairZip) ... ok\n",
      "test_list_too_large (__main__.TestGetNeighboringPairZip) ... ok\n",
      "test_sample_case_1 (__main__.TestGetNeighboringPairZip) ... ok\n",
      "test_sample_case_2 (__main__.TestGetNeighboringPairZip) ... ok\n",
      "test_sample_case_3 (__main__.TestGetNeighboringPairZip) ... ok\n",
      "test_sample_case_4 (__main__.TestGetNeighboringPairZip) ... ok\n",
      "\n",
      "----------------------------------------------------------------------\n",
      "Ran 32 tests in 0.032s\n",
      "\n",
      "OK\n"
     ]
    },
    {
     "data": {
      "text/plain": [
       "<unittest.main.TestProgram at 0x7fe8ac3b6910>"
      ]
     },
     "execution_count": 19,
     "metadata": {},
     "output_type": "execute_result"
    }
   ],
   "source": [
    "import unittest\n",
    "\n",
    "class TestFooBase:\n",
    "    def test_input_empty(self):\n",
    "        self.assertEqual(self.impl([]), [])\n",
    "\n",
    "    def test_input_single_number(self):\n",
    "        self.assertEqual(self.impl([1]), [])\n",
    "        \n",
    "    def test_sample_case_1(self):\n",
    "        self.assertEqual(self.impl([1,3,5,7]), [(3,1),(5,3),(7,5)])\n",
    "\n",
    "    def test_sample_case_2(self):\n",
    "        self.assertEqual(self.impl([3,1,7,5]), [(1,3),(7,1),(5,7)])\n",
    "        \n",
    "    def test_sample_case_3(self):\n",
    "        self.assertEqual(self.impl([1,\"3\",5,7]), [(\"3\",1),(5,\"3\"),(7,5)])\n",
    "    \n",
    "    def test_sample_case_4(self):\n",
    "        self.assertAlmostEqual(self.impl([1,[]]), [([],1)])  \n",
    "    \n",
    "    def test_input_not_list(self):\n",
    "        with self.assertRaises(TypeError):\n",
    "            self.impl(\"\")\n",
    "        \n",
    "    def test_list_too_large(self):\n",
    "        with self.assertRaises(MemoryError):\n",
    "            self.impl([1]*(sys.maxsize))\n",
    "\n",
    "class TestGetNeighboringPairEasyToRead(unittest.TestCase, TestFooBase):\n",
    "    impl = staticmethod(get_neighboring_pair_easy_to_read)\n",
    "    \n",
    "class TestGetNeighboringPairFewestLines(unittest.TestCase, TestFooBase):\n",
    "    impl = staticmethod(get_neighboring_pair_easy_to_read)    \n",
    "    \n",
    "class TestGetNeighboringPairIter(unittest.TestCase, TestFooBase):\n",
    "    impl = staticmethod(get_neighboring_pair_iter)\n",
    "    \n",
    "class TestGetNeighboringPairZip(unittest.TestCase, TestFooBase):\n",
    "    impl = staticmethod(get_neighboring_pair_zip)\n",
    "    \n",
    "    \n",
    "unittest.main(argv=[''], verbosity=2, exit=False)"
   ]
  },
  {
   "cell_type": "markdown",
   "metadata": {},
   "source": [
    "## Task C - Performance Testing"
   ]
  },
  {
   "cell_type": "markdown",
   "metadata": {},
   "source": [
    "#### Time complexity comparision"
   ]
  },
  {
   "cell_type": "code",
   "execution_count": 14,
   "metadata": {},
   "outputs": [],
   "source": [
    "def generate_random_data_in_order(test_data_order):\n",
    "    max_int = pow(10,9)\n",
    "    min_int = -pow(10,9)\n",
    "    res = []\n",
    "    for order in test_data_order:\n",
    "        res.append(list(randint(min_int, max_int, pow(10, order))))\n",
    "                   \n",
    "    return res"
   ]
  },
  {
   "cell_type": "code",
   "execution_count": 15,
   "metadata": {},
   "outputs": [],
   "source": [
    "def measure_func_elasped_time(total_test_data, func):\n",
    "    res = []\n",
    "    for test_data in total_test_data:\n",
    "        start = timer()\n",
    "        func(test_data)\n",
    "        end = timer()\n",
    "        res.append(end - start)\n",
    "    return res"
   ]
  },
  {
   "cell_type": "code",
   "execution_count": 16,
   "metadata": {},
   "outputs": [
    {
     "name": "stdout",
     "output_type": "stream",
     "text": [
      "7\n"
     ]
    }
   ],
   "source": [
    "test_data_order = [1,2,3,4,5,6,7]\n",
    "total_test_data = generate_random_data_in_order(test_data_order)\n",
    "print(len(total_test_data))\n",
    "test_data_number = [pow(10, order) for order in test_data_order]"
   ]
  },
  {
   "cell_type": "code",
   "execution_count": 17,
   "metadata": {},
   "outputs": [
    {
     "data": {
      "text/plain": [
       "<matplotlib.legend.Legend at 0x7fe88d07ec10>"
      ]
     },
     "execution_count": 17,
     "metadata": {},
     "output_type": "execute_result"
    },
    {
     "data": {
      "image/png": "[encoded data removed]",
      "text/plain": [
       "<Figure size 432x288 with 1 Axes>"
      ]
     },
     "metadata": {},
     "output_type": "display_data"
    }
   ],
   "source": [
    "fig = plt.figure()\n",
    "plt.xlabel(\"Number of random data\")\n",
    "plt.ylabel(\"Execution time(s)\")\n",
    "\n",
    "plt.plot(test_data_number, measure_func_elasped_time(total_test_data, get_neighboring_pair_easy_to_read), label=\"easy to read\")\n",
    "plt.plot(test_data_number, measure_func_elasped_time(total_test_data, get_neighboring_pair_fewest_lines), label=\"fewest lines\")\n",
    "plt.plot(test_data_number, measure_func_elasped_time(total_test_data, get_neighboring_pair_zip), label=\"zip\")\n",
    "plt.plot(test_data_number, measure_func_elasped_time(total_test_data, get_neighboring_pair_iter), label=\"iter\")\n",
    "\n",
    "plt.legend(loc=\"upper left\")"
   ]
  },
  {
   "cell_type": "markdown",
   "metadata": {},
   "source": [
    "#### Space complexity comparision"
   ]
  },
  {
   "cell_type": "code",
   "execution_count": 12,
   "metadata": {},
   "outputs": [],
   "source": [
    "def measure_func_peak_memory_usage(total_test_data, func):\n",
    "    res = []\n",
    "    for test_data in total_test_data:\n",
    "        res.append(memory_usage((func, (test_data,), {}), max_usage=True, interval=.005))\n",
    "    return res"
   ]
  },
  {
   "cell_type": "code",
   "execution_count": 13,
   "metadata": {},
   "outputs": [
    {
     "data": {
      "text/plain": [
       "'\\n%%file mprun_func_library.py\\ndef get_neighboring_pair_easy_to_read(nums):\\n    if not isinstance(nums, list):\\n        raise TypeError\\n    if len(nums) == 0 or len(nums) == 1:\\n        return [] \\n    res = []\\n    ptr1, ptr2 = 0, 1\\n    while ptr2 < len(nums):\\n        res.append((nums[ptr2], nums[ptr1]))\\n        ptr1, ptr2 = ptr1 + 1, ptr2 + 1\\n    return res\\n\\ndef get_neighboring_pair_fewest_lines(nums):\\n    if not isinstance(nums, list):\\n        raise TypeError\\n    if len(nums) == 0 or len(nums) == 1:\\n        return [] \\n    return [(nums[i], nums[i - 1]) for i in range(1, len(nums))]\\n\\ndef get_neighboring_pair_iter(nums):\\n    if not isinstance(nums, list):\\n        raise TypeError\\n    if len(nums) == 0 or len(nums) == 1:\\n        return []\\n    iter1, iter2 = tee(nums)\\n    next(iter1, None)\\n    return list(zip(iter1, iter2))\\n'"
      ]
     },
     "execution_count": 13,
     "metadata": {},
     "output_type": "execute_result"
    }
   ],
   "source": [
    "\"\"\"\n",
    "%%file mprun_func_library.py\n",
    "def get_neighboring_pair_easy_to_read(nums):\n",
    "    if not isinstance(nums, list):\n",
    "        raise TypeError\n",
    "    if len(nums) == 0 or len(nums) == 1:\n",
    "        return [] \n",
    "    res = []\n",
    "    ptr1, ptr2 = 0, 1\n",
    "    while ptr2 < len(nums):\n",
    "        res.append((nums[ptr2], nums[ptr1]))\n",
    "        ptr1, ptr2 = ptr1 + 1, ptr2 + 1\n",
    "    return res\n",
    "\n",
    "def get_neighboring_pair_fewest_lines(nums):\n",
    "    if not isinstance(nums, list):\n",
    "        raise TypeError\n",
    "    if len(nums) == 0 or len(nums) == 1:\n",
    "        return [] \n",
    "    return [(nums[i], nums[i - 1]) for i in range(1, len(nums))]\n",
    "\n",
    "def get_neighboring_pair_iter(nums):\n",
    "    if not isinstance(nums, list):\n",
    "        raise TypeError\n",
    "    if len(nums) == 0 or len(nums) == 1:\n",
    "        return []\n",
    "    iter1, iter2 = tee(nums)\n",
    "    next(iter1, None)\n",
    "    return list(zip(iter1, iter2))\n",
    "\"\"\""
   ]
  },
  {
   "cell_type": "code",
   "execution_count": 14,
   "metadata": {},
   "outputs": [],
   "source": [
    "# from mprun_func_library import get_neighboring_pair_easy_to_read, get_neighboring_pair_fewest_lines, get_neighboring_pair_iter"
   ]
  },
  {
   "cell_type": "code",
   "execution_count": 15,
   "metadata": {},
   "outputs": [],
   "source": [
    "# %mprun -f get_neighboring_pair_easy_to_read get_neighboring_pair_easy_to_read(total_test_data[-2])"
   ]
  },
  {
   "cell_type": "code",
   "execution_count": 16,
   "metadata": {},
   "outputs": [],
   "source": [
    "# %mprun -f get_neighboring_pair_fewest_lines get_neighboring_pair_fewest_lines(total_test_data[-2])"
   ]
  },
  {
   "cell_type": "code",
   "execution_count": 17,
   "metadata": {},
   "outputs": [],
   "source": [
    "# %mprun -f get_neighboring_pair_iter get_neighboring_pair_iter(total_test_data[-1])"
   ]
  },
  {
   "cell_type": "code",
   "execution_count": 18,
   "metadata": {},
   "outputs": [
    {
     "data": {
      "text/plain": [
       "<matplotlib.legend.Legend at 0x7fd46ab30c50>"
      ]
     },
     "execution_count": 18,
     "metadata": {},
     "output_type": "execute_result"
    },
    {
     "data": {
      "image/png": "[encoded data removed]",
      "text/plain": [
       "<Figure size 432x288 with 1 Axes>"
      ]
     },
     "metadata": {},
     "output_type": "display_data"
    }
   ],
   "source": [
    "fig = plt.figure()\n",
    "plt.xlabel(\"Number of random data\")\n",
    "plt.ylabel(\"Peak Memory Usage(MB)\")\n",
    "\n",
    "plt.plot(test_data_number, measure_func_peak_memory_usage(total_test_data, get_neighboring_pair_easy_to_read), label=\"easy to read\")\n",
    "plt.plot(test_data_number, measure_func_peak_memory_usage(total_test_data, get_neighboring_pair_fewest_lines), label=\"fewest lines\")\n",
    "plt.plot(test_data_number, measure_func_peak_memory_usage(total_test_data, get_neighboring_pair_zip), label=\"zip\")\n",
    "plt.plot(test_data_number, measure_func_peak_memory_usage(total_test_data, get_neighboring_pair_iter), label=\"iter\")\n",
    "\n",
    "plt.legend(loc=\"upper left\")"
   ]
  },
  {
   "cell_type": "code",
   "execution_count": 19,
   "metadata": {},
   "outputs": [
    {
     "data": {
      "image/png": "[encoded data removed]",
      "text/plain": [
       "<Figure size 432x288 with 1 Axes>"
      ]
     },
     "metadata": {},
     "output_type": "display_data"
    }
   ],
   "source": [
    "mem_easy_to_read = memory_usage((get_neighboring_pair_easy_to_read, (total_test_data[-1],), {}), interval=.005)\n",
    "x = np.linspace(0, len(mem_easy_to_read) * .05, len(mem_easy_to_read))\n",
    "p = pl.fill_between(x, mem_easy_to_read)\n",
    "pl.xlabel('time')\n",
    "pl.ylabel('Memory consumption (in MB)')\n",
    "pl.show()"
   ]
  },
  {
   "cell_type": "code",
   "execution_count": 20,
   "metadata": {},
   "outputs": [
    {
     "data": {
      "image/png": "[encoded data removed]",
      "text/plain": [
       "<Figure size 432x288 with 1 Axes>"
      ]
     },
     "metadata": {},
     "output_type": "display_data"
    }
   ],
   "source": [
    "mem_fewest_lines = memory_usage((get_neighboring_pair_fewest_lines, (total_test_data[-1],), {}), interval=.005)\n",
    "x = np.linspace(0, len(mem_fewest_lines) * .05, len(mem_fewest_lines))\n",
    "p = pl.fill_between(x, mem_fewest_lines)\n",
    "pl.xlabel('time')\n",
    "pl.ylabel('Memory consumption (in MB)')\n",
    "pl.show()"
   ]
  },
  {
   "cell_type": "code",
   "execution_count": 21,
   "metadata": {
    "scrolled": true
   },
   "outputs": [
    {
     "data": {
      "image/png": "[encoded data removed]",
      "text/plain": [
       "<Figure size 432x288 with 1 Axes>"
      ]
     },
     "metadata": {},
     "output_type": "display_data"
    }
   ],
   "source": [
    "mem_iter = memory_usage((get_neighboring_pair_iter, (total_test_data[-1],), {}), interval=.05)\n",
    "x = np.linspace(0, len(mem_iter) * .05, len(mem_iter))\n",
    "p = pl.fill_between(x, mem_iter)\n",
    "pl.xlabel('time')\n",
    "pl.ylabel('Memory consumption (in MB)')\n",
    "pl.show()"
   ]
  },
  {
   "cell_type": "code",
   "execution_count": 22,
   "metadata": {},
   "outputs": [
    {
     "data": {
      "image/png": "[encoded data removed]",
      "text/plain": [
       "<Figure size 432x288 with 1 Axes>"
      ]
     },
     "metadata": {},
     "output_type": "display_data"
    }
   ],
   "source": [
    "mem_zip = memory_usage((get_neighboring_pair_zip, (total_test_data[-1],), {}), interval=.05)\n",
    "x = np.linspace(0, len(mem_zip) * .05, len(mem_zip))\n",
    "p = pl.fill_between(x, mem_zip)\n",
    "pl.xlabel('time')\n",
    "pl.ylabel('Memory consumption (in MB)')\n",
    "pl.show()"
   ]
  },
  {
   "cell_type": "markdown",
   "metadata": {},
   "source": [
    "## Task D - Discussion"
   ]
  },
  {
   "cell_type": "markdown",
   "metadata": {},
   "source": [
    "#### Performance\n",
    "* Run-time: \n",
    "    * The _get_neighboring_pair_iter_ implementation has the best performance because it uses two Python iterator to access neighboring pairs. In addition, the iteration process is conducted in **low-level C code**, which is much faster compared with for loop in Python. \n",
    "    * The run-time of _get_neighboring_pair_zip_ is slight higher than _get_neighboring_pair_iter_ , because the list slicing operation may induce addtion process time. \n",
    "    * _get_neighboring_pair_fewest_lines_ have slower execution time compared with the previous two implementations because **list comprehension** still does a bytecode level loop.\n",
    "    * _get_neighboring_pair_easy_to_read_ is much slower compared with other three implementations because it not only performs the iteration in Python but also needs to perform **append** operation every iteration, which induce additional _looked up_ and _loaded_ and as a function every iteration.\n",
    "\n",
    "\n",
    "* Peak Memory usage:\n",
    "    *  _get_neighboring_pair_easy_to_read_ and _get_neighboring_pair_iter_ have almost the same and least peak memory, becuase they both their memory usage rise directly related to the number of iterations.\n",
    "    * As mentioned above, _get_neighboring_pair_zip_ has slightly higher peak memory usage because it performs the list slicing operation which copy almost all the reference of elements in the input list.\n",
    "    * The memory usage of _get_neighboring_pair_fewest_lines_ is the highest. The Python version used in this task is 3. To mimic the **range(len(nums))** behavior in Python 2, which actually creates a list rather than an iterator in Python 3, our implementation uses **list(range(nums))** to ensure a full list is generated. It also allocates the result list in advance. Therefore, this implementation takes the most memory usage. \n",
    "\n",
    "#### Tradeoff \n",
    "* Development / Prototype Phase: The most important thing for a function prototyping would be the readability and easy to debug. The run-time efficiency is not the major concern during this phase. I would choose _get_neighboring_pair_easy_to_read_ because it is the simplest to read and understand.\n",
    "* Production Phase: During the production phase, the run-time efficiency becomes the most important consideration because the run-time of a program directly affects the cost of downstream application. The _get_neighboring_pair_iter_ would be the best choice in this phase by both considering the run-time and memory usage. "
   ]
  },
  {
   "cell_type": "code",
   "execution_count": null,
   "metadata": {},
   "outputs": [],
   "source": []
  }
 ],
 "metadata": {
  "kernelspec": {
   "display_name": "Python 3",
   "language": "python",
   "name": "python3"
  },
  "language_info": {
   "codemirror_mode": {
    "name": "ipython",
    "version": 3
   },
   "file_extension": ".py",
   "mimetype": "text/x-python",
   "name": "python",
   "nbconvert_exporter": "python",
   "pygments_lexer": "ipython3",
   "version": "3.7.6"
  }
 },
 "nbformat": 4,
 "nbformat_minor": 4
}
